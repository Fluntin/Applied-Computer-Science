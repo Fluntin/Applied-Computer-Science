{
 "cells": [
  {
   "attachments": {},
   "cell_type": "markdown",
   "metadata": {},
   "source": [
    "Finn kortaste vägen från ett ord till ett annat genom att byta ut en bokstav i taget. \n",
    "\n",
    "    Exempel:\n",
    "    söt -> söm -> döm -> dum -> dur -> sur"
   ]
  },
  {
   "attachments": {},
   "cell_type": "markdown",
   "metadata": {},
   "source": [
    "Nu i labb 4 ska du skriva ett program som avgör om det finns en väg eller inte. \n",
    "\n",
    "Lösningsprincipen gås igenom nedan och den beskrivs ofta i läroböcker för det analoga problemet att finna kortaste väg i en graf."
   ]
  },
  {
   "attachments": {},
   "cell_type": "markdown",
   "metadata": {},
   "source": [
    "Startord: söt\n",
    "Slutord: sur\n",
    "\"Det finns en väg från söt till sur.\""
   ]
  },
  {
   "attachments": {},
   "cell_type": "markdown",
   "metadata": {},
   "source": [
    "Det här är ett grafproblem, men vi ska inte lagra grafen i en grannmatris eller grannlista. Istället skapar vi grafens hörn under tiden som programmet körs, enligt följande algoritm:\n",
    "\n",
    " 1. Problemträdets urmoder/stamfar söt har barnen nöt, sot, söm med flera,\n",
    "    barnbarnen not, som, döm osv.\n",
    "\n",
    " 2. Enligt kedjan söt -> söm -> döm -> dum -> dur -> sur är\n",
    "    sur barnbarnsbarnbarnsbarn till söt.\n",
    "\n",
    "    sur finns kanske redan tidigare i problemträdet?\n"
   ]
  },
  {
   "attachments": {},
   "cell_type": "markdown",
   "metadata": {},
   "source": [
    "Breddenförstsökning\n",
    "\n",
    "1. Lägg ursprungsordet som första och enda ord i en kö.\n",
    "\n",
    "2. Upprepa sedan följande så länge det finns ord kvar i kön:\n",
    "    \n",
    "    - Plocka ut det första ordet ur kön\n",
    "    - Skapa alla barn till det\n",
    "    - Lägg in dom sist i kön\n",
    "\n",
    "Första förekomsten av det sökta ordet ger kortaste lösningen!"
   ]
  },
  {
   "attachments": {},
   "cell_type": "markdown",
   "metadata": {},
   "source": [
    "Note:\n",
    "    Man kan spara in både tid och utrymme om man undviker att skapa barn som är\n",
    "    kopior av tidigare släktingar, så kallade dumbarn."
   ]
  },
  {
   "attachments": {},
   "cell_type": "markdown",
   "metadata": {},
   "source": [
    "Version 1:\n",
    "\n",
    "    Låt filen bfs.py utgå från förra labben, som ju har\n",
    "    två binärträd. Nu kallar vi dom svenska (ordlistan) och gamla (dumbarnen).\n",
    "\n",
    "    Huvudprogrammet ska:\n",
    "        1. Läsa in ordlistan\n",
    "        2. Fråga efter startord och slutord\n",
    "        3. Göra anropet makechildren(startord)\n",
    "\n",
    "Funktionen makechildren ska systematiskt gå igenom alla sätt att byta ut en bokstav\n",
    "i startordet (aöt, böt, ..., söö) \n",
    "\n",
    "Kolla att det nya ordet finns i ordlistan men inte finns i gamla och i så fall skriva ut det nya ordet på skärmen och lägga in det i gamla."
   ]
  },
  {
   "attachments": {},
   "cell_type": "markdown",
   "metadata": {},
   "source": [
    "Version 2:\n",
    "\n",
    "    För fortsatt genomgång av söts barnbarn osv behövs den köklass LinkedQ som du skrev i labb 2, kortkonstlabben.\n",
    "\n",
    "    1. Importera den och skapa kön q. \n",
    "         I stället för att skriva ut barnen på skärmen ska nu makechildren() lägga in dom i kön.\n",
    "\n",
    "    2. Huvudprogrammet lägger in startordet i kön och går sedan i en slinga, ungefär så här:\n"
   ]
  },
  {
   "attachments": {},
   "cell_type": "markdown",
   "metadata": {},
   "source": [
    "while not q.isEmpty():\n",
    "    nod = q.dequeue()\n",
    "    makechildren(nod, q)"
   ]
  },
  {
   "attachments": {},
   "cell_type": "markdown",
   "metadata": {},
   "source": [
    "När makechildren() stöter på slutordet gör den utskriften:"
   ]
  },
  {
   "attachments": {},
   "cell_type": "markdown",
   "metadata": {},
   "source": [
    "print(\"Det finns en väg till\", slutord)"
   ]
  },
  {
   "attachments": {},
   "cell_type": "markdown",
   "metadata": {},
   "source": [
    "Eller talar om att ingen väg fanns. \n",
    "Provkör med lite olika start- och slutord, bland annat blå - röd, ful - fin och ute - hit."
   ]
  }
 ],
 "metadata": {
  "kernelspec": {
   "display_name": "Python 3",
   "language": "python",
   "name": "python3"
  },
  "language_info": {
   "name": "python",
   "version": "3.10.9 (tags/v3.10.9:1dd9be6, Dec  6 2022, 20:01:21) [MSC v.1934 64 bit (AMD64)]"
  },
  "orig_nbformat": 4,
  "vscode": {
   "interpreter": {
    "hash": "3e339696d5700502ed3074c620c9857154c6bfaba1e7bf25d15bd675c1426ffe"
   }
  }
 },
 "nbformat": 4,
 "nbformat_minor": 2
}
