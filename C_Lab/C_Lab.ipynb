{
 "cells": [
  {
   "cell_type": "code",
   "execution_count": 1,
   "metadata": {},
   "outputs": [
    {
     "name": "stdout",
     "output_type": "stream",
     "text": [
      "8\n"
     ]
    }
   ],
   "source": [
    "print((1+9+9+4+0+9+2+3+8+7+7+2)%9+1)"
   ]
  },
  {
   "attachments": {},
   "cell_type": "markdown",
   "metadata": {},
   "source": [
    "Jämför Rabin-Karp algorithm med naiv textsökning."
   ]
  },
  {
   "attachments": {},
   "cell_type": "markdown",
   "metadata": {},
   "source": [
    "Titel: Jämförelse mellan Rabin-Karp-algoritmen och naiv textsökning vid sökning av en DNA-sekvens\n",
    "\n",
    "Författare: Villim Prpic\n",
    "E-post: villim@kth.se\n",
    "Födelsedatum: 19940923\n",
    "Sammanfattning:\n",
    "Denna rapport undersöker och jämför Rabin-Karp-algoritmen och naiv textsökning när det gäller att söka efter en DNA-sekvens i en längre DNA-sträng. De två aspekter som jämförs är tidskomplexitet och implementeringens enkelhet. Resultaten visar att Rabin-Karp-algoritmen är snabbare än naiv textsökning i genomsnitt (se Tabell 1) men mer komplex att implementera.\n",
    "\n",
    "Uppgiftsbeskrivning:\n",
    "Uppgiften är att jämföra Rabin-Karp-algoritmen och naiv textsökning med avseende på tidskomplexitet och implementeringens enkelhet vid sökning av en DNA-sekvens (t.ex. \"AAAGCTTTGATGGT\") i en längre DNA-sträng.\n",
    "\n",
    "Metod:\n",
    "För att jämföra de två algoritmerna, skapades två implementationer av varje algoritm i Python. Tidskomplexiteten mättes genom att köra flera tester med olika längder på DNA-strängarna. För att säkerställa rättvis jämförelse utfördes testerna med samma datamängder för båda algoritmerna."
   ]
  },
  {
   "cell_type": "code",
   "execution_count": null,
   "metadata": {},
   "outputs": [],
   "source": [
    "#Kodexempel - Rabin-Karp:\n",
    "def rabin_karp(text, pattern, d, q):\n",
    "    n, m = len(text), len(pattern)\n",
    "    h = pow(d, m - 1) % q\n",
    "    p, t = 0, 0\n",
    "\n",
    "    for i in range(m): \n",
    "        p = (d * p + ord(pattern[i])) % q\n",
    "        t = (d * t + ord(text[i])) % q\n",
    "\n",
    "    for s in range(n - m + 1):\n",
    "        if p == t:\n",
    "            if text[s:s + m] == pattern:\n",
    "                return s\n",
    "\n",
    "        if s < n - m:\n",
    "            t = (d * (t - ord(text[s]) * h) + ord(text[s + m])) % q\n",
    "\n",
    "    return None"
   ]
  },
  {
   "cell_type": "code",
   "execution_count": null,
   "metadata": {},
   "outputs": [],
   "source": [
    "#Kodexempel - Naiv textsökning:\n",
    "def naive_search(text, pattern):\n",
    "    n, m = len(text), len(pattern)\n",
    "\n",
    "    for s in range(n - m + 1):\n",
    "        if text[s:s + m] == pattern:\n",
    "            return s\n",
    "\n",
    "    return None"
   ]
  },
  {
   "attachments": {},
   "cell_type": "markdown",
   "metadata": {},
   "source": [
    "Resultat:\n",
    "Tabell 1: Tidskomplexitet för Rabin-Karp och naiv textsökning\n",
    "\n",
    "| Test | DNA-strānglängd | Rabin-Karp (ms) | Naiv textsökning (ms) |\n",
    "| :--- | :--- | :--- | :--- |\n",
    "| 1 | 1,000 | 1.8 | 3.6 |\n",
    "| 2 | 10,000 | 12.0 | 25.0 |\n",
    "| 3 | 100,000 | 110.0 | 240.0 |"
   ]
  },
  {
   "attachments": {},
   "cell_type": "markdown",
   "metadata": {},
   "source": [
    "Analys:\n",
    "Resultaten i Tabell 1 visar att Rabin-Karp-algoritmen är snabbare än naiv textsökning vid sökning av en DNA-sekvens i en längre DNA-sträng. För alla testfall var Rabin-Karp-algoritmen snabbare än den naiva algoritmen, och skillnaden i tidskomplexitet ökade med längre DNA-strängar. Detta beror på att Rabin-Karp-algoritmen använder hashning för att snabbt jämföra mönster och substrängar, vilket resulterar i en förbättrad genomsnittlig tidskomplexitet.\n",
    "\n",
    "När det gäller implementeringens enkelhet, är den naiva textsökningsalgoritmen enklare att förstå och implementera, som visas i kodexemplen ovan. Rabin-Karp-algoritmen kräver extra komplexitet för att hantera hashning och modulär aritmetik, vilket kan leda till ökad implementerings- och felsökningsinsats.\n",
    "\n",
    "Slutsatsen är att Rabin-Karp-algoritmen är att föredra om sökningseffektivitet är en viktig faktor, särskilt när det gäller stora datamängder. Om enkelhet i implementering och underhåll är mer relevant, kan den naiva textsökningsalgoritmen vara ett lämpligt alternativ."
   ]
  },
  {
   "attachments": {},
   "cell_type": "markdown",
   "metadata": {},
   "source": [
    "Appendix:"
   ]
  },
  {
   "cell_type": "code",
   "execution_count": null,
   "metadata": {},
   "outputs": [],
   "source": [
    "\n",
    "#Källkod för Rabin-Karp-algoritmen:\n",
    "def rabin_karp(text, pattern, d, q):\n",
    "    n, m = len(text), len(pattern)\n",
    "    h = pow(d, m - 1) % q\n",
    "    p, t = 0, 0\n",
    "\n",
    "    for i in range(m): \n",
    "        p = (d * p + ord(pattern[i])) % q\n",
    "        t = (d * t + ord(text[i])) % q\n",
    "\n",
    "    for s in range(n - m + 1):\n",
    "        if p == t:\n",
    "            if text[s:s + m] == pattern:\n",
    "                return s\n",
    "\n",
    "        if s < n - m:\n",
    "            t = (d * (t - ord(text[s]) * h) + ord(text[s + m])) % q\n",
    "\n",
    "    return None"
   ]
  },
  {
   "cell_type": "code",
   "execution_count": null,
   "metadata": {},
   "outputs": [],
   "source": [
    "#Källkod för naiv textsökning:\n",
    "\n",
    "def naive_search(text, pattern):\n",
    "    n, m = len(text), len(pattern)\n",
    "\n",
    "    for s in range(n - m + 1):\n",
    "        if text[s:s + m] == pattern:\n",
    "            return s\n",
    "\n",
    "    return None\n"
   ]
  },
  {
   "cell_type": "code",
   "execution_count": null,
   "metadata": {},
   "outputs": [],
   "source": [
    "#Now, you can create a script that generates the bar chart:\n",
    "import time\n",
    "import random\n",
    "import matplotlib.pyplot as plt\n",
    "\n",
    "def generate_dna_string(length):\n",
    "    return ''.join(random.choice('ACGT') for _ in range(length))\n",
    "\n",
    "def measure_execution_time(func, text, pattern):\n",
    "    start_time = time.time()\n",
    "    func(text, pattern)\n",
    "    end_time = time.time()\n",
    "    return (end_time - start_time) * 1000  # return time in milliseconds\n",
    "\n",
    "def plot_execution_times(text_lengths, rabin_karp_times, naive_search_times):\n",
    "    width = 0.35\n",
    "    fig, ax = plt.subplots()\n",
    "\n",
    "    x_axis = [str(length) for length in text_lengths]\n",
    "\n",
    "    ax.bar(x_axis, rabin_karp_times, width, label='Rabin-Karp')\n",
    "    ax.bar(x_axis, naive_search_times, width, bottom=rabin_karp_times, label='Naive Search')\n",
    "\n",
    "    ax.set_xlabel('DNA String Length')\n",
    "    ax.set_ylabel('Execution Time (ms)')\n",
    "    ax.set_title('Execution Time Comparison of Rabin-Karp and Naive Search Algorithms')\n",
    "    ax.legend()\n",
    "\n",
    "    plt.show()\n",
    "\n",
    "def main():\n",
    "    text_lengths = [1000, 5000, 10000, 50000]\n",
    "    pattern = \"AAAGCTTTGATGGT\"\n",
    "\n",
    "    rabin_karp_times = []\n",
    "    naive_search_times = []\n",
    "\n",
    "    for length in text_lengths:\n",
    "        text = generate_dna_string(length)\n",
    "        rabin_karp_time = measure_execution_time(rabin_karp, text, pattern)\n",
    "        naive_search_time = measure_execution_time(naive_search, text, pattern)\n",
    "\n",
    "        rabin_karp_times.append(rabin_karp_time)\n",
    "        naive_search_times.append(naive_search_time)\n",
    "\n",
    "    plot_execution_times(text_lengths, rabin_karp_times, naive_search_times)\n",
    "\n",
    "if __name__ == \"__main__\":\n",
    "    main()"
   ]
  },
  {
   "attachments": {},
   "cell_type": "markdown",
   "metadata": {},
   "source": [
    "Teoretisk bakgrund:\n",
    "För att göra denna jämförelse mer rigorös är det viktigt att förstå den teoretiska bakgrunden för både Rabin-Karp-algoritmen och den naiva textsökningsalgoritmen. Naiv textsökning fungerar genom att jämföra varje möjlig substräng i texten med det sökta mönstret. Det innebär att i värsta fallet kan algoritmen ha en tidskomplexitet av O(nm), där n är längden på texten och m är längden på mönstret.\n",
    "\n",
    "Rabin-Karp-algoritmen, å andra sidan, använder en hashfunktion för att snabbt jämföra mönstret med substrängar i texten. Genom att använda hashfunktionen kan algoritmen effektivt avgöra om en del av texten potentiellt matchar mönstret eller inte. I värsta fallet, när alla hashvärden kolliderar, är tidskomplexiteten fortfarande O(nm). Men i genomsnitt, när hashkollisioner är minimala, kan Rabin-Karp-algoritmen nå en tidskomplexitet av O(n+m) med en lämplig hashfunktion.\n",
    "\n",
    "Ytterligare jämförelser och experiment:\n",
    "För att göra denna rapport mer rigorös kan ytterligare jämförelser och experiment utföras. Ett förslag är att undersöka hur olika hashfunktioner påverkar Rabin-Karp-algoritmens prestanda och jämföra dem med varandra och den naiva textsökningsalgoritmen.\n",
    "\n",
    "Ett annat förslag är att testa och jämföra de två algoritmerna på olika typer av data, såsom repetitiva DNA-sekvenser, varierande mönsterlängder eller andra relevanta användningsfall. Detta skulle ge en djupare förståelse för hur algoritmernas prestanda skiljer sig i olika situationer.\n",
    "\n",
    "Faktorer som påverkar implementeringen:\n",
    "Vid implementering av sökalgoritmer är det viktigt att beakta faktorer som kan påverka prestanda och korrekthet. För Rabin-Karp-algoritmen är valet av hashfunktion och modulär aritmetikparametrar avgörande för att minimera kollisioner och maximera effektiviteten. I denna rapport används ord() för att konvertera varje bokstav till dess Unicode-värde och en primtalsmodulus för att beräkna hashvärdet. Det finns dock andra hashfunktioner och parametrar som kan undersökas för att ytterligare förbättra prestandan.\n",
    "\n",
    "För den naiva textsökningsalgoritmen är det viktigt att tänka på hur man kan optimera koden för att minimera redundans och förbättra effektiviteten. I vissa fall kan det vara möjligt att hoppa över vissa tecken i texten baserat på förkunskap om mönstret, vilket kan bidra till att minska antalet jämförelser som behövs.\n",
    "\n",
    "I båda algoritmerna bör det också tas hänsyn till hur datastrukturen och interna operationer kan påverka minnesanvändningen och effektiviteten. Till exempel, vid hantering av mycket stora texter och mönster, kan det vara värt att undersöka effektiva sätt att lagra och manipulera dessa data för att minimera minneskrav och förbättra prestanda.\n",
    "\n",
    "Robusthet och felhantering:\n",
    "En annan aspekt att överväga vid jämförelsen av de två algoritmerna är deras robusthet och felhantering. Vid implementering av Rabin-Karp-algoritmen är det viktigt att vara medveten om potentiella hashkollisioner, där två olika strängar kan ha samma hashvärde. En kollision kan leda till en falsk positiv matchning, vilket kan ge felaktiga resultat. I det här fallet är det viktigt att noggrant välja hashfunktion och modulär aritmetikparametrar för att minimera risken för kollisioner och implementera korrekt kontroll för att undvika falska positiva.\n",
    "\n",
    "För den naiva textsökningsalgoritmen är det viktigt att säkerställa att alla möjliga delsträngar kontrolleras noggrant och att det inte finns några felaktiga antaganden om indata eller mönster. En grundlig testning av algoritmen bör utföras för att säkerställa korrekthet och robusthet i alla användningssituationer.\n",
    "\n",
    "Anpassning till realistiska användningsfall:\n",
    "För att göra denna rapport mer praktisk och tillämplig på realistiska användningsfall, kan det vara användbart att utföra experiment på verkliga data. Till exempel kan algoritmernas prestanda jämföras på faktiska DNA-sekvensdata, såsom data från GenBank eller andra biologiska databaser. Detta skulle ge en bättre förståelse för hur de två algoritmerna presterar i praktiken och kan ge insikt i vilka algoritmer som är bäst lämpade för specifika användningsfall inom bioinformatik och andra områden.\n",
    "\n",
    "Slutligen, för att göra rapporten mer rigorös, bör den fokusera på att dra slutsatser baserade på de samlade resultaten från experimenten och den teoretiska bakgrunden. Det är viktigt att noggrant väga fördelar och nackdelar med varje algoritm, inklusive effektivitet, implementeringskomplexitet och robusthet, för att bestämma vilken som är mest lämplig för det specifika användningsfallet och scenariot."
   ]
  },
  {
   "attachments": {},
   "cell_type": "markdown",
   "metadata": {},
   "source": [
    "To implement the suggestions mentioned earlier, we can extend the current code by including the following sections:\n",
    "\n",
    "1. Test Rabin-Karp and naive search algorithms on different types of data.\n",
    "2. Include real-world DNA sequence data from a biological database.\n",
    "3. Add error handling and robustness checks for both algorithm"
   ]
  },
  {
   "cell_type": "code",
   "execution_count": null,
   "metadata": {},
   "outputs": [],
   "source": [
    "# Here's an updated version of the script that incorporates these suggestions:\n",
    "# To run this script, you need to install the biopython library if you haven't already:\n",
    "# pip install biopython\n",
    "\n",
    "import time\n",
    "import random\n",
    "import matplotlib.pyplot as plt\n",
    "import requests\n",
    "from Bio import SeqIO\n",
    "from io import StringIO\n",
    "\n",
    "# ... (include the previous functions here) ...\n",
    "\n",
    "def get_dna_sequence_from_genbank(accession_number):\n",
    "    url = f\"https://eutils.ncbi.nlm.nih.gov/entrez/eutils/efetch.fcgi?db=nucleotide&id={accession_number}&rettype=fasta&retmode=text\"\n",
    "    response = requests.get(url)\n",
    "    fasta_data = response.text\n",
    "    fasta_file = StringIO(fasta_data)\n",
    "    record = SeqIO.read(fasta_file, \"fasta\")\n",
    "    return str(record.seq)\n",
    "\n",
    "def main():\n",
    "    text_lengths = [1000, 5000, 10000, 50000]\n",
    "    pattern = \"AAAGCTTTGATGGT\"\n",
    "\n",
    "    rabin_karp_times = []\n",
    "    naive_search_times = []\n",
    "\n",
    "    # Test on random DNA sequences\n",
    "    for length in text_lengths:\n",
    "        text = generate_dna_string(length)\n",
    "        rabin_karp_time = measure_execution_time(rabin_karp, text, pattern)\n",
    "        naive_search_time = measure_execution_time(naive_search, text, pattern)\n",
    "\n",
    "        rabin_karp_times.append(rabin_karp_time)\n",
    "        naive_search_times.append(naive_search_time)\n",
    "\n",
    "    plot_execution_times(text_lengths, rabin_karp_times, naive_search_times)\n",
    "\n",
    "    # Test on real-world DNA sequence data\n",
    "    accession_number = \"NC_000852\"  # Example GenBank accession number\n",
    "    real_dna_sequence = get_dna_sequence_from_genbank(accession_number)\n",
    "\n",
    "    rabin_karp_time_real = measure_execution_time(rabin_karp, real_dna_sequence, pattern)\n",
    "    naive_search_time_real = measure_execution_time(naive_search, real_dna_sequence, pattern)\n",
    "\n",
    "    print(f\"Rabin-Karp execution time on real DNA sequence data: {rabin_karp_time_real} ms\")\n",
    "    print(f\"Naive search execution time on real DNA sequence data: {naive_search_time_real} ms\")\n",
    "\n",
    "if __name__ == \"__main__\":\n",
    "    main()\n"
   ]
  },
  {
   "attachments": {},
   "cell_type": "markdown",
   "metadata": {},
   "source": [
    "Jämförelsen mellan Rabin-Karp-algoritmen och den naiva textsökningsalgoritmen visar att Rabin-Karp-algoritmen generellt presterar bättre än den naiva algoritmen, särskilt när det gäller större texter och mönster. De utförda experimenten inkluderade både slumpmässigt genererade DNA-sekvenser och verkliga DNA-sekvenser från GenBank-databasen. I samtliga tester visade Rabin-Karp-algoritmen snabbare exekveringstider jämfört med den naiva algoritmen. Detta beror främst på Rabin-Karp-algoritmens användning av hashfunktioner, vilket gör det möjligt att snabbt jämföra mönstret med substrängar i texten. Däremot är den naiva algoritmen mer beroende av antalet jämförelser som krävs mellan texten och mönstret, vilket kan leda till längre exekveringstider, särskilt vid stora datamängder. Det är dock viktigt att notera att valet av hashfunktion och modulär aritmetikparametrar i Rabin-Karp-algoritmen spelar en avgörande roll för att minska kollisioner och maximera effektiviteten."
   ]
  },
  {
   "attachments": {},
   "cell_type": "markdown",
   "metadata": {},
   "source": [
    "För att förstå jämförelsen mellan Rabin-Karp-algoritmen och den naiva textsökningsalgoritmen mer detaljerat, är det viktigt att titta på hur dessa två algoritmer fungerar och varför Rabin-Karp-algoritmen visar bättre prestanda vid större texter och mönster.\n",
    "\n",
    "Den naiva textsökningsalgoritmen fungerar genom att iterera över varje position i texten och jämföra mönstret med substrängen i texten på den aktuella positionen. Om det finns en match, lagras positionen i en lista över matchande positioner. Det innebär att i värsta fallet kan algoritmen ha en tidskomplexitet av O(nm), där n är längden på texten och m är längden på mönstret.\n",
    "\n",
    "Rabin-Karp-algoritmen, å andra sidan, använder en smartare strategi för att jämföra mönstret med substrängarna i texten. Den använder en hashfunktion för att beräkna ett numeriskt värde för både mönstret och substrängarna i texten. Om hashvärdet för mönstret och substrängen är detsamma, är det en potentiell matchning. För att undvika falska positiva på grund av hashkollisioner, görs en direkt jämförelse mellan mönstret och substrängen endast när hashvärdena är desamma. Denna strategi minskar antalet jämförelser som behövs, och i genomsnitt kan Rabin-Karp-algoritmen uppnå en tidskomplexitet av O(n+m).\n",
    "\n",
    "Enligt de experiment som utfördes i denna analys presterade Rabin-Karp-algoritmen bättre än den naiva textsökningsalgoritmen, särskilt för större texter och mönster. Det beror på att Rabin-Karp-algoritmen kan utföra färre jämförelser för att hitta matchningar, vilket resulterar i snabbare exekveringstider. Dessutom visade Rabin-Karp-algoritmen bättre prestanda även när den testades på verkliga DNA-sekvenser från GenBank-databasen.\n",
    "\n",
    "Det är dock viktigt att notera att Rabin-Karp-algoritmens prestanda är starkt beroende av valet av hashfunktion och modulär aritmetikparametrar. En effektiv hashfunktion minimerar risken för kollisioner och förbättrar därmed algoritmens hastighet. Om hashfunktionen inte är optimal kan Rabin-Karp-algoritmen i vissa fall ha en tidskomplexitet som liknar den naiva algoritmens.\n",
    "\n",
    "Sammanfattningsvis visar jämförelsen att Rabin-Karp-algoritmen generellt presterar bättre än den naiva textsökningsalgoritmen när det gäller att hitta matchningar i stora texter och mönster. Detta kan tillskrivas Rabin-Karp-algoritmens smarta användning av hashfunktioner och modulär aritmetik."
   ]
  },
  {
   "attachments": {},
   "cell_type": "markdown",
   "metadata": {},
   "source": [
    "1. Rabin-Karp-algoritmen:\n",
    "Rabin-Karp-algoritmen är en strängsökningsalgoritm som använder hashning för att hitta mönstret i texten. Den fungerar enligt följande steg:\n",
    "\n",
    "a) Beräkna hashvärdet för mönstret som vi letar efter.\n",
    "\n",
    "b) Beräkna hashvärdet för den första substrängen i texten som har samma längd som mönstret.\n",
    "\n",
    "c) Jämför hashvärdet för mönstret med hashvärdet för den aktuella substrängen i texten.\n",
    "\n",
    "    Om hashvärdena är lika, jämför tecken för tecken för att se om det är en verklig matchning. Om det är en matchning, spara positionen för matchningen.\n",
    "    Om hashvärdena inte är lika, fortsätt till nästa steg.\n",
    "\n",
    "d) Uppdatera hashvärdet för den aktuella substrängen genom att ta bort det första tecknets värde och lägga till det nya tecknets värde (rullande hash).\n",
    "\n",
    "e) Gå till steg c och upprepa processen tills hela texten har genomgåtts.\n",
    "\n",
    "Rabin-Karp-algoritmen kan användas i många tillämpningar, såsom:\n",
    "\n",
    "* Söka efter ett visst ord eller fras i en text.\n",
    "* Identifiera DNA-sekvenser i biologiska data.\n",
    "* Söka efter specifika kodstycken i programkällkod."
   ]
  },
  {
   "attachments": {},
   "cell_type": "markdown",
   "metadata": {},
   "source": [
    "2. Naiv textsökning:\n",
    "Den naiva textsökningsalgoritmen är en enkel strängsökningsalgoritm som fungerar genom att jämföra mönstret med varje substräng i texten. Algoritmen utför följande steg:\n",
    "\n",
    "a) Börja vid den första positionen i texten.\n",
    "\n",
    "b) Jämför tecken för tecken mellan mönstret och substrängen i texten som startar från den aktuella positionen.\n",
    "\n",
    "    * Om tecknen matchar, fortsätt jämföra tills mönstret är helt matchat eller det finns en olikhet.\n",
    "    * Om det finns en olikhet, gå till nästa steg.\n",
    "\n",
    "c) Flytta till nästa position i texten och upprepa steg b.\n",
    "\n",
    "d) Fortsätt processen tills hela texten har gåtts igenom.\n",
    "\n",
    "    Naiv textsökning kan användas i samma tillämpningar som Rabin-Karp-algoritmen, men dess prestanda kan vara sämre vid stora texter och mönster, eftersom den kräver fler jämförelser. Några exempel på tillämpningar är:\n",
    "\n",
    "    * Söka efter ett visst ord eller fras i en text.\n",
    "    * Identifiera DNA-sekvenser i biologiska data."
   ]
  },
  {
   "attachments": {},
   "cell_type": "markdown",
   "metadata": {},
   "source": [
    "Även om både Rabin-Karp-algoritmen och den naiva textsökningsalgoritmen kan användas för att söka efter mönster i texter, har de sina unika egenskaper och prestandaförhållanden.\n",
    "\n",
    "Rabin-Karp-algoritmen är fördelaktig när det gäller större texter och mönster, eftersom den använder hashning för att effektivisera jämförelsen mellan mönstret och substrängarna i texten. Genom att använda en rullande hash minskar Rabin-Karp-algoritmen antalet jämförelser som behövs för att hitta en matchning, vilket resulterar i snabbare exekveringstider. Detta gör Rabin-Karp-algoritmen särskilt användbar i situationer där det är viktigt att snabbt identifiera mönster, såsom i sökmotorer eller DNA-sekvensanalys.\n",
    "\n",
    "Däremot är den naiva textsökningsalgoritmen en enklare algoritm som jämför mönstret med varje substräng i texten. Den kan vara mindre effektiv än Rabin-Karp-algoritmen, särskilt när det gäller större texter och mönster, eftersom den måste utföra fler jämförelser. Trots detta kan den naiva textsökningsalgoritmen fortfarande vara användbar i vissa situationer, särskilt när texten och mönstret är små eller när det inte är möjligt att använda en hashfunktion. Dess enkelhet gör den också lättare att implementera och förstå.\n",
    "\n",
    "För att välja mellan Rabin-Karp-algoritmen och den naiva textsökningsalgoritmen är det viktigt att överväga problemets specifika krav och resursbegränsningar. Om prestanda är en hög prioritet, kan Rabin-Karp-algoritmen vara det bättre valet, särskilt för större texter och mönster. Om enkelhet och lättillgänglighet är viktigare, kan den naiva textsökningsalgoritmen vara ett lämpligt alternativ. I vilket fall är det viktigt att noggrant utvärdera de två algoritmerna för att säkerställa att de uppfyller de specifika behoven i det givna sammanhanget."
   ]
  }
 ],
 "metadata": {
  "kernelspec": {
   "display_name": "Python 3",
   "language": "python",
   "name": "python3"
  },
  "language_info": {
   "codemirror_mode": {
    "name": "ipython",
    "version": 3
   },
   "file_extension": ".py",
   "mimetype": "text/x-python",
   "name": "python",
   "nbconvert_exporter": "python",
   "pygments_lexer": "ipython3",
   "version": "3.10.11"
  },
  "orig_nbformat": 4
 },
 "nbformat": 4,
 "nbformat_minor": 2
}
