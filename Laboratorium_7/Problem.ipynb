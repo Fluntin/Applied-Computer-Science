{
 "cells": [
  {
   "attachments": {},
   "cell_type": "markdown",
   "metadata": {},
   "source": [
    "□  Hashning med Pythons inbyggda dictionary\n",
    "\n",
    "Minns du hur du i labb 2 gjorde en enkel kö med Pythons array? Nu ska du göra en egen hashtabell med Pythons dictionary!\n",
    "\n",
    "Skriv en klass DictHash som använder Pythons inbyggda dictionaryLinks to an external site.. Den måste ha metoderna\n",
    "- store(nyckel, data) som lagrar data som value i din dictionary, med nyckel som key.\n",
    "- x = search(nyckel) som slår upp nyckel i din dictionary.\n",
    "\n",
    "\n",
    "Dessutom får du om du vill lägga till två extra metoder:\n",
    "\n",
    "- Vill du kunna skriva d[nyckel] istället för d.search(nyckel)? Definiera då metoden __getitem__(self, nyckel) Links to an external site.som anropar din search-metod.\n",
    "\n",
    "- Vill du kunna skriva if nyckel in d ? Definiera då metoden __contains__(self, nyckel) Links to an external site.som returnerar True om nyckel finns i d, False annars.\n",
    "\n",
    "Testkör din klass  DictHash med datafilen från första labben:  Armands pokedex :\n",
    "- Skapa Pokémon-objekt på samma sätt som i labb 1. Lägg in objekten i hashtabellen, med namnet som nyckel.\n",
    "- Sök efter pokémon i hashtabellen.\n",
    "- Testa också att söka efter ett namn som inte finns med."
   ]
  },
  {
   "attachments": {},
   "cell_type": "markdown",
   "metadata": {},
   "source": [
    "□ En egen implementation av hashtabellen\n",
    "\n",
    "Nu ska du även göra hashningen själv, i din nya klass Hashtabell med samma gränssnitt och funktionalitet som DictHash. Krav:\n",
    "\n",
    "- Definiera en klass HashNode för hashtabellens noder. Noderna måste innehålla både nyckel och värde.\n",
    "\n",
    "- Hashtabellen ska vara lagom stor.\n",
    "\n",
    "- Du måste skriva en egen hashfunktion, som ger en bra fördelning över hela tabellen.\n",
    "\n",
    "- Du ska kunna redogöra för hur bra fördelningen är. T.ex. med en teoretisk analys av din algoritm eller genom att mäta hur många krockar det är som mest vid insättning.\n",
    "\n",
    "- N- ågon krockhantering måste ingå, t ex krocklistor eller probning.\n",
    "\n",
    "- Du ska använda KeyError för att tala om att en nyckel inte finns."
   ]
  }
 ],
 "metadata": {
  "kernelspec": {
   "display_name": "Python 3",
   "language": "python",
   "name": "python3"
  },
  "language_info": {
   "name": "python",
   "version": "3.10.10"
  },
  "orig_nbformat": 4,
  "vscode": {
   "interpreter": {
    "hash": "3e339696d5700502ed3074c620c9857154c6bfaba1e7bf25d15bd675c1426ffe"
   }
  }
 },
 "nbformat": 4,
 "nbformat_minor": 2
}
