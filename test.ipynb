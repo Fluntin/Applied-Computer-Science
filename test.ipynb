{
 "cells": [
  {
   "cell_type": "code",
   "execution_count": 3,
   "metadata": {},
   "outputs": [
    {
     "name": "stdout",
     "output_type": "stream",
     "text": [
      "9000\n"
     ]
    }
   ],
   "source": [
    "def add_interest(b, r):\n",
    "    return b * (1 + r/100)\n",
    "\n",
    "a = 9000 \n",
    "b = 3.9\n",
    "add_interest(a,b)\n",
    "print(round(a))"
   ]
  },
  {
   "cell_type": "code",
   "execution_count": null,
   "metadata": {},
   "outputs": [],
   "source": [
    "def drake(R=50e9, fp=0.2, ne=3, fl=0.5, fi=0.5, fc=0.2, fL=1e-6):\n",
    "    N = R * fp * ne * fl * fi * fc * fL\n",
    "    return N \n",
    "\n"
   ]
  },
  {
   "cell_type": "code",
   "execution_count": 103,
   "metadata": {},
   "outputs": [
    {
     "data": {
      "text/plain": [
       "9"
      ]
     },
     "execution_count": 103,
     "metadata": {},
     "output_type": "execute_result"
    }
   ],
   "source": [
    "from random import *\n",
    "randrange(7, 17)"
   ]
  },
  {
   "cell_type": "code",
   "execution_count": 105,
   "metadata": {},
   "outputs": [
    {
     "name": "stdout",
     "output_type": "stream",
     "text": [
      "2000\n"
     ]
    }
   ],
   "source": [
    "def add_interest(b, r):\n",
    "    return b * (1 + r/100)\n",
    "\n",
    "a = 2000 \n",
    "b = 3.9\n",
    "add_interest(a,b)\n",
    "print(round(a))"
   ]
  }
 ],
 "metadata": {
  "kernelspec": {
   "display_name": "Python 3",
   "language": "python",
   "name": "python3"
  },
  "language_info": {
   "codemirror_mode": {
    "name": "ipython",
    "version": 3
   },
   "file_extension": ".py",
   "mimetype": "text/x-python",
   "name": "python",
   "nbconvert_exporter": "python",
   "pygments_lexer": "ipython3",
   "version": "3.10.10"
  },
  "orig_nbformat": 4,
  "vscode": {
   "interpreter": {
    "hash": "3e339696d5700502ed3074c620c9857154c6bfaba1e7bf25d15bd675c1426ffe"
   }
  }
 },
 "nbformat": 4,
 "nbformat_minor": 2
}
