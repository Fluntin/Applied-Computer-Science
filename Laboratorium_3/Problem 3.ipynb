{
 "cells": [
  {
   "attachments": {},
   "cell_type": "markdown",
   "metadata": {},
   "source": [
    "1. Första uppgiften är att skriva en klass för binära sökträd.\n",
    "\n",
    "2. Andra uppgiften är att bygga upp ett sökträd från en fil med svenska ord. Alla dubbletter ska skrivas ut.\n",
    "\n",
    "3. Tredje uppgiften är att kolla orden i en engelsk text mot det svenska sökträdet. \n",
    "\n",
    "Finns det några skenbart svenska ord ska dom skrivas ut, men bara den första förekomsten av varje svenskt ord. (För att veta vilka ord man redan hittat sparar man förstås dom i ett sökträd.)"
   ]
  },
  {
   "attachments": {},
   "cell_type": "markdown",
   "metadata": {},
   "source": [
    "Vid redovisningen ska du\n",
    "\n",
    "1. kunna rita och berätta hur binärträdet byggs upp,\n",
    "\n",
    "2. visa hur du testat din klass för binära träd,\n",
    "\n",
    "3. förklara varför det går snabbt att söka i ett binärträd,\n",
    "\n",
    "4. förklara idén bakom att ha put som anropar putta, etc"
   ]
  }
 ],
 "metadata": {
  "kernelspec": {
   "display_name": "Python 3",
   "language": "python",
   "name": "python3"
  },
  "language_info": {
   "name": "python",
   "version": "3.10.9 (tags/v3.10.9:1dd9be6, Dec  6 2022, 20:01:21) [MSC v.1934 64 bit (AMD64)]"
  },
  "orig_nbformat": 4,
  "vscode": {
   "interpreter": {
    "hash": "3e339696d5700502ed3074c620c9857154c6bfaba1e7bf25d15bd675c1426ffe"
   }
  }
 },
 "nbformat": 4,
 "nbformat_minor": 2
}
