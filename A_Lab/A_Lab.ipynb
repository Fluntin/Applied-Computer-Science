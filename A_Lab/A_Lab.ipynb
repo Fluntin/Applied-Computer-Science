{
 "cells": [
  {
   "cell_type": "code",
   "execution_count": null,
   "metadata": {},
   "outputs": [],
   "source": [
    "def tape_needed(paper_size):\n",
    "    return 2 ** (-5 / 4 + paper_size / 2)\n",
    "\n",
    "def main():\n",
    "    # Read input\n",
    "    n = int(input().strip())\n",
    "    papers = list(map(int, input().strip().split()))\n",
    "\n",
    "    # Initialize variables\n",
    "    total_tape = 0\n",
    "    available_papers = [0] * (n + 1)\n",
    "    needed_papers = 1\n",
    "\n",
    "    # Convert papers into A1 size\n",
    "    for paper_size in range(n, 1, -1):\n",
    "        available_papers[paper_size] = papers[paper_size - 2]\n",
    "\n",
    "        while available_papers[paper_size] >= needed_papers:\n",
    "            total_tape += tape_needed(paper_size) * needed_papers\n",
    "            available_papers[paper_size] -= needed_papers\n",
    "            needed_papers *= 2\n",
    "            paper_size -= 1\n",
    "\n",
    "    # Check if there are enough papers to make an A1 paper\n",
    "    if available_papers[1] >= needed_papers:\n",
    "        total_tape += tape_needed(1) * needed_papers\n",
    "        print(total_tape)\n",
    "    else:\n",
    "        print(\"impossible\")\n",
    "\n",
    "if __name__ == \"__main__\":\n",
    "    main()"
   ]
  }
 ],
 "metadata": {
  "kernelspec": {
   "display_name": "Python 3",
   "language": "python",
   "name": "python3"
  },
  "language_info": {
   "name": "python",
   "version": "3.10.11"
  },
  "orig_nbformat": 4
 },
 "nbformat": 4,
 "nbformat_minor": 2
}
