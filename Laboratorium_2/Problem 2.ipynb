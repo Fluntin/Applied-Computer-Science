{
 "cells": [
  {
   "attachments": {},
   "cell_type": "markdown",
   "metadata": {},
   "source": [
    "\"Trollkarlen tar ut de tretton spaderna ur leken, håller dem som en\n",
    "kortlek med baksidan upp och lägger ut dem på följande sätt: Översta\n",
    "kortet stoppas underst, nästa kort läggs ut med framsidan upp, nästa\n",
    "kort stoppas underst, nästa kort läggs ut osv.  Till publikens\n",
    "häpnad kommer korten upp i ordning ess, tvåa, trea...\n",
    "Utförande: Man ordnar i hemlighet korten enligt följande:\""
   ]
  },
  {
   "attachments": {},
   "cell_type": "markdown",
   "metadata": {},
   "source": [
    "Ja, här bryter vi citatet ur Liberg: Trolleri för alla.\n",
    "I labbuppgiften ingår nämligen att ta reda på kortkonstens hemlighet! Du ska därför göra ett program där man kan simulera korttricket så här:"
   ]
  },
  {
   "attachments": {},
   "cell_type": "markdown",
   "metadata": {},
   "source": [
    "    Vilken ordning ligger korten i? \n",
    "     3   1   4   2   5 \n",
    "     De kommer ut i denna ordning: 1 2 3 5 4"
   ]
  },
  {
   "attachments": {},
   "cell_type": "markdown",
   "metadata": {},
   "source": [
    "https://www.youtube.com/watch?v=Njk4PUElCBQ&ab_channel=lindakudden"
   ]
  },
  {
   "attachments": {},
   "cell_type": "markdown",
   "metadata": {},
   "source": [
    "I denna labb ska du implementera en kö på två olika sätt. Med den abstrakta datastrukturen kö kan man göra dessa saker:\n",
    "\n",
    "Queue()                 # skapa en tom kö\n",
    "enqueue(x)          # stoppa in något sist i kön\n",
    "x = dequeue()     # plocka ut det som står först i kön\n",
    "isEmpty()              # kolla om kön är tom\n",
    "n = size()                        # antalet element i kön\n",
    " "
   ]
  },
  {
   "attachments": {},
   "cell_type": "markdown",
   "metadata": {},
   "source": [
    "ArrayQ - en kö med Pythons array\n",
    "\n",
    "I första uppgiften ska du skriva en egen klass ArrayQ där du implementerar en kö med hjälp av pythons array . Datastrukturen array är en effektiv variant av en lista, men den har vissa begränsningar. \n",
    "\n",
    "1. Börja med att importera modulen array med from array import array\n",
    "\n",
    "2. Bestäm vilken typ av data du vill lagra.\n",
    "\n",
    "3. Skapa en array och experimentera med array-metoderna append , insert , remove och pop . Rita bilder som illustrerar vad metoderna gör. Vilka vill du använda i din enqueue respektive dequeue?\n",
    "\n",
    "4. Nu är du redo att skriva din egen klass ArrayQ.\n",
    "\n",
    "5. Attribut: En array (och ev andra attribut som du vill ha med). Alla attribut ska vara privata (inledas med understrykningstecken _).\n"
   ]
  },
  {
   "attachments": {},
   "cell_type": "markdown",
   "metadata": {},
   "source": [
    "2. Prova din kö med följande testprogram:"
   ]
  },
  {
   "cell_type": "code",
   "execution_count": null,
   "metadata": {},
   "outputs": [],
   "source": [
    "q = ArrayQ()\n",
    "q.enqueue(1)\n",
    "q.enqueue(2)\n",
    "x = q.dequeue()\n",
    "y = q.dequeue()\n",
    "if (x == 1 and y == 2):\n",
    "    print(\"OK\")\n",
    "else:\n",
    "    print(\"FAILED\")"
   ]
  },
  {
   "attachments": {},
   "cell_type": "markdown",
   "metadata": {},
   "source": [
    "3. Skriv Trollkarlsprogrammet\n",
    "\n",
    "Skriv ett program som simulerar korttricket (se videon och exemplet överst i labben).\n",
    "Inmatningstips är att använda input() för att läsa in hela raden, split() för att dela upp den och int() för att konvertera till heltal. \n",
    "Experimentera sedan med olika inmatade ordningar och se om du kan lista ut i vilken ordning korten ska ligga innan man börjar trolla för att man ska få ut alla tretton i rätt ordning"
   ]
  },
  {
   "attachments": {},
   "cell_type": "markdown",
   "metadata": {},
   "source": [
    "4. Skapa en ArrayQ-modul\n",
    "\n",
    "Gör nu så här: klipp ut klassen från ditt program och klistra in i en ny fil arrayQFile.py \n",
    "Importera klassen till huvudprogrammet med raden \n",
    "from arrayQFile import ArrayQ\n",
    "Nu går det att använda klassen utan att den syns i programmet."
   ]
  },
  {
   "attachments": {},
   "cell_type": "markdown",
   "metadata": {},
   "source": [
    "Tips: Använd if-satsen\n",
    "i din modul för att inte köra eventuell kod, t.ex. testkod i ArrayQ"
   ]
  },
  {
   "cell_type": "code",
   "execution_count": null,
   "metadata": {},
   "outputs": [],
   "source": [
    "if __name__ == \"__main__\":"
   ]
  },
  {
   "attachments": {},
   "cell_type": "markdown",
   "metadata": {},
   "source": [
    "5. LinkedQ - en kö av noder (länkad lista)\n",
    "\n",
    "Nu ska du istället implementera kön som en länkad lista. Då behövs två nya klasser: Node och LinkedQ.\n",
    "\n",
    "Skriv in bägge klasserna i samma fil: linkedQFile.py. Noderna i listan är objekt som vardera innehåller två attribut: ett värde (value) och en referens till nästa objekt (next). \n",
    "\n",
    "Dessa två attribut behöver inte vara privata.\n",
    "Själva LinkedQ-klassen ska ha två privata attribut: first som håller reda på den första noden i kön och last som pekar ut den sista. Använd samma gränssnitt som i uppgift 1:\n",
    "\n",
    "Queue()                 \n",
    "enqueue(x)          \n",
    "x = dequeue()     \n",
    "isEmpty()              \n",
    "size()  \n",
    "\n",
    "Det är extra knepigt att programmera enqueue(x) eftersom det blir två fall, beroende på om kön är tom eller inte. Rita upp bägge fallen (lådor med pilar) innan du skriver koden! "
   ]
  },
  {
   "attachments": {},
   "cell_type": "markdown",
   "metadata": {},
   "source": [
    "6. Testa LinkedQ \n",
    "Prova din kö med följande testprogram (som använder Pythons unittest):"
   ]
  },
  {
   "cell_type": "code",
   "execution_count": null,
   "metadata": {},
   "outputs": [],
   "source": [
    "import unittest\n",
    "from linkedQFile import LinkedQ\n",
    "\n",
    "class TestQueue(unittest.TestCase):\n",
    "\n",
    "    def test_isEmpty(self):\n",
    "        #isEmpty ska returnera True för tom kö, False annars\n",
    "        q = LinkedQ()\n",
    "        self.assertTrue(q.isEmpty(), \"isEmpty på tom kö\")\n",
    "        q.enqueue(17)\n",
    "        self.assertFalse(q.isEmpty(), \"isEmpty på icke-tom kö\")\n",
    "\n",
    "    def test_order(self):\n",
    "        #Kontrollerar att kö-ordningen blir rätt\n",
    "        q = LinkedQ()\n",
    "        q.enqueue(1)\n",
    "        q.enqueue(2)\n",
    "        q.enqueue(3)\n",
    "        self.assertEqual(q.dequeue(), 1)\n",
    "        self.assertEqual(q.dequeue(), 2)\n",
    "        self.assertEqual(q.dequeue(), 3)\n",
    "\n",
    "if __name__ == \"__main__\":\n",
    "    unittest.main()"
   ]
  },
  {
   "attachments": {},
   "cell_type": "markdown",
   "metadata": {},
   "source": [
    "7. Trollkarlsprogrammet med LinkedQ\n",
    "\n",
    "Ändra import-satsen i trollkarlsprogrammet så att du importerar klassen LinkedQ istället för ArrayQ.\n",
    "\n",
    "Provkör. \n",
    "\n",
    "Fungerade det? \n",
    "\n",
    "Då har du lyckats implementera den abstrakNu går det att använda klassen utan att den syns i programmet.ta datastrukturen kö på två olika sätt."
   ]
  }
 ],
 "metadata": {
  "kernelspec": {
   "display_name": "Python 3",
   "language": "python",
   "name": "python3"
  },
  "language_info": {
   "name": "python",
   "version": "3.10.9 (tags/v3.10.9:1dd9be6, Dec  6 2022, 20:01:21) [MSC v.1934 64 bit (AMD64)]"
  },
  "orig_nbformat": 4,
  "vscode": {
   "interpreter": {
    "hash": "3e339696d5700502ed3074c620c9857154c6bfaba1e7bf25d15bd675c1426ffe"
   }
  }
 },
 "nbformat": 4,
 "nbformat_minor": 2
}
