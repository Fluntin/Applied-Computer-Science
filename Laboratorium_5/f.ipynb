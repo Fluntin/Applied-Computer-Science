{
 "cells": [
  {
   "cell_type": "code",
   "execution_count": 1,
   "metadata": {},
   "outputs": [
    {
     "name": "stdout",
     "output_type": "stream",
     "text": [
      "1\n",
      "2\n",
      "3\n",
      "4\n",
      "5\n"
     ]
    }
   ],
   "source": [
    "lista=[1,2,3,4,5]\n",
    "\n",
    "def utskrift(lista):\n",
    "    if len(lista) > 0:\n",
    "        print(lista[0])\n",
    "        utskrift(lista[1:])\n",
    "        \n",
    "utskrift(lista)"
   ]
  }
 ],
 "metadata": {
  "kernelspec": {
   "display_name": "Python 3",
   "language": "python",
   "name": "python3"
  },
  "language_info": {
   "codemirror_mode": {
    "name": "ipython",
    "version": 3
   },
   "file_extension": ".py",
   "mimetype": "text/x-python",
   "name": "python",
   "nbconvert_exporter": "python",
   "pygments_lexer": "ipython3",
   "version": "3.10.10"
  },
  "orig_nbformat": 4,
  "vscode": {
   "interpreter": {
    "hash": "3e339696d5700502ed3074c620c9857154c6bfaba1e7bf25d15bd675c1426ffe"
   }
  }
 },
 "nbformat": 4,
 "nbformat_minor": 2
}
